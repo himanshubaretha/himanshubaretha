{
  "nbformat": 4,
  "nbformat_minor": 0,
  "metadata": {
    "colab": {
      "name": "Flask_prectice.ipynb",
      "provenance": [],
      "toc_visible": true,
      "authorship_tag": "ABX9TyMhsYLeogApNn/QTjlpKd+r",
      "include_colab_link": true
    },
    "kernelspec": {
      "name": "python3",
      "display_name": "Python 3"
    },
    "language_info": {
      "name": "python"
    }
  },
  "cells": [
    {
      "cell_type": "markdown",
      "metadata": {
        "id": "view-in-github",
        "colab_type": "text"
      },
      "source": [
        "<a href=\"https://colab.research.google.com/github/himanshubaretha/himanshubaretha/blob/main/Flask_prectice.ipynb\" target=\"_parent\"><img src=\"https://colab.research.google.com/assets/colab-badge.svg\" alt=\"Open In Colab\"/></a>"
      ]
    },
    {
      "cell_type": "code",
      "execution_count": null,
      "metadata": {
        "colab": {
          "base_uri": "https://localhost:8080/"
        },
        "id": "YdQa_OmN-5z9",
        "outputId": "f65fb136-bd23-45f1-b43d-f1c0a9673fdd"
      },
      "outputs": [
        {
          "output_type": "stream",
          "name": "stdout",
          "text": [
            "Blu is a bird\n",
            "Woo is also a bird\n",
            "Blu is 10 years old\n",
            "Woo is 15 years old\n"
          ]
        }
      ],
      "source": [
        "class Parrot:\n",
        "  # class attribute\n",
        "  species = \"bird\"\n",
        "  # instance attribute\n",
        "  def __init__(self, name, age):\n",
        "    self.name = name\n",
        "    self.age = age\n",
        "\n",
        "# instantiate the Parrot class\n",
        "blu = Parrot(\"Blu\", 10)\n",
        "woo = Parrot(\"Woo\", 15)\n",
        "# access the class attributes\n",
        "print(f\"Blu is a {blu.species}\")\n",
        "print(f\"Woo is also a {woo.species}\")\n",
        "\n",
        "# access the instance attributes\n",
        "print(f\"{blu.name} is {blu.age} years old\")\n",
        "print(f\"{woo.name} is {woo.age} years old\")"
      ]
    },
    {
      "cell_type": "code",
      "source": [
        "class Parrot:\n",
        "  # instance attributes\n",
        "  def __init__(self, name, age):\n",
        "    self.name = name\n",
        "    self.age = age\n",
        "    \n",
        "  # instance method\n",
        "  def sing(self, song):\n",
        "    return f\"{self.name} sings {song}\"\n",
        "\n",
        "  def dance(self):\n",
        "    return f\"{self.name} is now dancing\"\n",
        "\n",
        "# instantiate the object\n",
        "blu = Parrot(\"Blu\", 10)\n",
        "\n",
        "# call our instance methods\n",
        "print(blu.sing(\"'Happy'\"))\n",
        "print(blu.dance())"
      ],
      "metadata": {
        "id": "fw8yqkA6BWXb",
        "colab": {
          "base_uri": "https://localhost:8080/"
        },
        "outputId": "667f651f-b51c-492a-8828-a710cc93be0d"
      },
      "execution_count": null,
      "outputs": [
        {
          "output_type": "stream",
          "name": "stdout",
          "text": [
            "Blu sings 'Happy'\n",
            "Blu is now dancing\n"
          ]
        }
      ]
    },
    {
      "cell_type": "code",
      "source": [
        ""
      ],
      "metadata": {
        "id": "J-IeN_ufRB4l"
      },
      "execution_count": null,
      "outputs": []
    }
  ]
}